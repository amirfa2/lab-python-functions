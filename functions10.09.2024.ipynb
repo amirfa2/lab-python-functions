{
 "cells": [
  {
   "cell_type": "code",
   "execution_count": 9,
   "id": "0ca694d6-5b1b-4609-9c18-d4329126b0e0",
   "metadata": {},
   "outputs": [
    {
     "name": "stdout",
     "output_type": "stream",
     "text": [
      "Please enter the inventory quantities for each product.\n"
     ]
    },
    {
     "name": "stdin",
     "output_type": "stream",
     "text": [
      "Enter quantity for t-shirt:  11\n",
      "Enter quantity for mug:  22\n",
      "Enter quantity for hat:  33\n",
      "Enter quantity for book:  456\n",
      "Enter quantity for keychain:  321\n",
      "Enter the name of the product you want to order:  mug\n",
      "Do you want to add another product? (yes/no):  no\n"
     ]
    },
    {
     "name": "stdout",
     "output_type": "stream",
     "text": [
      "Order Statistics:\n",
      "Total Products Ordered: 1\n",
      "Percentage of Unique Products Ordered: 20.0%\n",
      "Updated Inventory:\n",
      "t-shirt: 11\n",
      "mug: 21\n",
      "hat: 33\n",
      "book: 456\n",
      "keychain: 321\n"
     ]
    }
   ],
   "source": [
    "# Define the functions\n",
    "\n",
    "def initialize_inventory(products):\n",
    "    \"\"\"\n",
    "    Initialize the inventory dictionary by taking user input for each product's quantity.\n",
    "    :products: List of product names\n",
    "    :return: Dictionary (products and their quantities)\n",
    "    \"\"\"\n",
    "    inventory = {}\n",
    "    print(\"Please enter the inventory quantities for each product.\")\n",
    "    for product in products:\n",
    "        quantity = int(input(f\"Enter quantity for {product}: \"))\n",
    "        inventory[product] = quantity\n",
    "    return inventory\n",
    "\n",
    "def get_customer_orders():\n",
    "    customer_orders = []\n",
    "    while True:\n",
    "        order = input(\"Enter the name of the product you want to order: \").lower()\n",
    "        customer_orders.append(order)\n",
    "        another_order = input(\"Do you want to add another product? (yes/no): \").strip().lower()\n",
    "        if another_order == 'no':\n",
    "            break\n",
    "    return customer_orders\n",
    "\n",
    "def update_inventory(customer_orders, inventory):\n",
    "     \"\"\"\n",
    "     Update the inventory based on the customer orders.\n",
    "     :customer_orders: List of customer orders\n",
    "     :inventory: Dictionary of products and their quantities\n",
    "     :return: None (updates inventory)\n",
    "     \"\"\"\n",
    "     for product in customer_orders:\n",
    "         if product in inventory:\n",
    "             if inventory[product] > 0:\n",
    "                 inventory[product] -= 1\n",
    "             else:\n",
    "                print(f\"Warning: {product} is out of stock.\")\n",
    "         else:\n",
    "            print(f\"Warning: {product} is not a valid product.\")\n",
    "\n",
    "def calculate_order_statistics(customer_orders, products):\n",
    "    total_products_ordered = len(customer_orders)\n",
    "    unique_products_ordered = len(set(customer_orders))\n",
    "    total_available_products = len(products)\n",
    "    percentage_ordered = (unique_products_ordered / total_available_products) * 100\n",
    "    return total_products_ordered, percentage_ordered\n",
    "\n",
    "def print_order_statistics(order_statistics):\n",
    "     \"\"\"\n",
    "    Print the order statistics in the specified format.\n",
    "    :order_statistics: Tuple containing total products ordered and percentage ordered\n",
    "    :return: None\n",
    "    \"\"\"\n",
    "     total_products_ordered, percentage_ordered = order_statistics\n",
    "     print(\"Order Statistics:\")\n",
    "     print(f\"Total Products Ordered: {total_products_ordered}\")\n",
    "     print(f\"Percentage of Unique Products Ordered: {percentage_ordered:}%\")\n",
    "\n",
    "def print_updated_inventory(inventory):\n",
    "    print(\"Updated Inventory:\")\n",
    "    for product, quantity in inventory.items():\n",
    "        print(f\"{product}: {quantity}\")\n",
    "\n",
    "# Call the functions in order\n",
    "\n",
    "products = [\"t-shirt\", \"mug\", \"hat\", \"book\", \"keychain\"] \n",
    "inventory = initialize_inventory(products)\n",
    "customer_orders = get_customer_orders()\n",
    "update_inventory(customer_orders, inventory)\n",
    "order_statistics = calculate_order_statistics(customer_orders, products)\n",
    "print_order_statistics(order_statistics)\n",
    "print_updated_inventory(inventory)\n"
   ]
  },
  {
   "cell_type": "code",
   "execution_count": null,
   "id": "098a05a1-f94b-41cc-b6c8-64be2558273a",
   "metadata": {},
   "outputs": [],
   "source": []
  }
 ],
 "metadata": {
  "kernelspec": {
   "display_name": "Python 3",
   "language": "python",
   "name": "python3"
  },
  "language_info": {
   "codemirror_mode": {
    "name": "ipython",
    "version": 3
   },
   "file_extension": ".py",
   "mimetype": "text/x-python",
   "name": "python",
   "nbconvert_exporter": "python",
   "pygments_lexer": "ipython3",
   "version": "3.8.8"
  }
 },
 "nbformat": 4,
 "nbformat_minor": 5
}
